{
 "cells": [
  {
   "cell_type": "code",
   "execution_count": 1,
   "id": "1059ff10-e59d-4b9a-a909-16dfbeaa6836",
   "metadata": {},
   "outputs": [],
   "source": [
    "%load_ext autoreloadsea_level_pressure_mbar_mean"
   ]
  },
  {
   "cell_type": "code",
   "execution_count": 2,
   "id": "0ef861c1-23d2-4337-aa6e-6d002ed5e3c6",
   "metadata": {},
   "outputs": [],
   "source": [
    "%autoreload 2"
   ]
  },
  {
   "cell_type": "code",
   "execution_count": 3,
   "id": "a4ad88d4-5616-40e7-bcdf-3a606ed4bdcc",
   "metadata": {},
   "outputs": [],
   "source": [
    "import pandas as pd\n",
    "from pathlib import Path\n",
    "import numpy as np\n",
    "\n",
    "import src.data.reshape as rs"
   ]
  },
  {
   "cell_type": "code",
   "execution_count": 4,
   "id": "022fd553-091d-4db2-b3d7-3a21ef1b6e23",
   "metadata": {},
   "outputs": [],
   "source": [
    "pd.options.display.max_columns= 50"
   ]
  },
  {
   "cell_type": "code",
   "execution_count": 5,
   "id": "16dfad78-55c9-4f67-841d-1db18134575b",
   "metadata": {},
   "outputs": [],
   "source": [
    "gsod = pd.read_csv('../data/raw/data_candidate_stations_50km_10yr.csv')"
   ]
  },
  {
   "cell_type": "code",
   "execution_count": 6,
   "id": "22f433e1-d837-4759-afac-55a8bf1a98c7",
   "metadata": {},
   "outputs": [
    {
     "data": {
      "text/plain": [
       "(1852346, 27)"
      ]
     },
     "execution_count": 6,
     "metadata": {},
     "output_type": "execute_result"
    }
   ],
   "source": [
    "gsod.shape"
   ]
  },
  {
   "cell_type": "code",
   "execution_count": 7,
   "id": "60718419-228d-4c5e-9337-bb37c6b5aeef",
   "metadata": {},
   "outputs": [
    {
     "name": "stdout",
     "output_type": "stream",
     "text": [
      "<class 'pandas.core.frame.DataFrame'>\n",
      "RangeIndex: 1852346 entries, 0 to 1852345\n",
      "Data columns (total 27 columns):\n",
      " #   Column            Dtype  \n",
      "---  ------            -----  \n",
      " 0   stn               int64  \n",
      " 1   wban              int64  \n",
      " 2   year              int64  \n",
      " 3   mo                int64  \n",
      " 4   da                int64  \n",
      " 5   temp              float64\n",
      " 6   count_temp        int64  \n",
      " 7   dewp              float64\n",
      " 8   count_dewp        int64  \n",
      " 9   slp               float64\n",
      " 10  count_slp         int64  \n",
      " 11  stp               float64\n",
      " 12  count_stp         int64  \n",
      " 13  visib             float64\n",
      " 14  count_visib       int64  \n",
      " 15  wdsp              float64\n",
      " 16  count_wdsp        int64  \n",
      " 17  max               float64\n",
      " 18  flag_max          object \n",
      " 19  min               float64\n",
      " 20  flag_min          object \n",
      " 21  prcp              float64\n",
      " 22  flag_prcp         object \n",
      " 23  sndp              float64\n",
      " 24  rain_drizzle      int64  \n",
      " 25  snow_ice_pellets  int64  \n",
      " 26  hail              int64  \n",
      "dtypes: float64(10), int64(14), object(3)\n",
      "memory usage: 381.6+ MB\n"
     ]
    }
   ],
   "source": [
    "gsod.info()"
   ]
  },
  {
   "cell_type": "code",
   "execution_count": 8,
   "id": "dafcaf4c-024e-497d-a9f8-ed77a4e443b0",
   "metadata": {},
   "outputs": [
    {
     "data": {
      "text/html": [
       "<div>\n",
       "<style scoped>\n",
       "    .dataframe tbody tr th:only-of-type {\n",
       "        vertical-align: middle;\n",
       "    }\n",
       "\n",
       "    .dataframe tbody tr th {\n",
       "        vertical-align: top;\n",
       "    }\n",
       "\n",
       "    .dataframe thead th {\n",
       "        text-align: right;\n",
       "    }\n",
       "</style>\n",
       "<table border=\"1\" class=\"dataframe\">\n",
       "  <thead>\n",
       "    <tr style=\"text-align: right;\">\n",
       "      <th></th>\n",
       "      <th>stn</th>\n",
       "      <th>wban</th>\n",
       "      <th>year</th>\n",
       "      <th>mo</th>\n",
       "      <th>da</th>\n",
       "      <th>temp</th>\n",
       "      <th>count_temp</th>\n",
       "      <th>dewp</th>\n",
       "      <th>count_dewp</th>\n",
       "      <th>slp</th>\n",
       "      <th>count_slp</th>\n",
       "      <th>stp</th>\n",
       "      <th>count_stp</th>\n",
       "      <th>visib</th>\n",
       "      <th>count_visib</th>\n",
       "      <th>wdsp</th>\n",
       "      <th>count_wdsp</th>\n",
       "      <th>max</th>\n",
       "      <th>min</th>\n",
       "      <th>prcp</th>\n",
       "      <th>sndp</th>\n",
       "      <th>rain_drizzle</th>\n",
       "      <th>snow_ice_pellets</th>\n",
       "      <th>hail</th>\n",
       "    </tr>\n",
       "  </thead>\n",
       "  <tbody>\n",
       "    <tr>\n",
       "      <th>count</th>\n",
       "      <td>1.852346e+06</td>\n",
       "      <td>1.852346e+06</td>\n",
       "      <td>1.852346e+06</td>\n",
       "      <td>1.852346e+06</td>\n",
       "      <td>1.852346e+06</td>\n",
       "      <td>1.852346e+06</td>\n",
       "      <td>1.852346e+06</td>\n",
       "      <td>1.852346e+06</td>\n",
       "      <td>1.852346e+06</td>\n",
       "      <td>1.852346e+06</td>\n",
       "      <td>1.852346e+06</td>\n",
       "      <td>1.852346e+06</td>\n",
       "      <td>1.852346e+06</td>\n",
       "      <td>1.852346e+06</td>\n",
       "      <td>1.852346e+06</td>\n",
       "      <td>1.852346e+06</td>\n",
       "      <td>1.852346e+06</td>\n",
       "      <td>1.852346e+06</td>\n",
       "      <td>1.852346e+06</td>\n",
       "      <td>1.852346e+06</td>\n",
       "      <td>1.852346e+06</td>\n",
       "      <td>1.852346e+06</td>\n",
       "      <td>1.852346e+06</td>\n",
       "      <td>1.852346e+06</td>\n",
       "    </tr>\n",
       "    <tr>\n",
       "      <th>mean</th>\n",
       "      <td>7.657544e+05</td>\n",
       "      <td>5.596731e+04</td>\n",
       "      <td>1.993033e+03</td>\n",
       "      <td>6.502181e+00</td>\n",
       "      <td>1.572011e+01</td>\n",
       "      <td>5.580638e+01</td>\n",
       "      <td>2.115253e+01</td>\n",
       "      <td>7.938900e+02</td>\n",
       "      <td>1.958347e+01</td>\n",
       "      <td>3.363682e+03</td>\n",
       "      <td>1.544760e+01</td>\n",
       "      <td>4.144599e+03</td>\n",
       "      <td>1.250161e+01</td>\n",
       "      <td>1.611490e+02</td>\n",
       "      <td>1.823835e+01</td>\n",
       "      <td>3.203407e+01</td>\n",
       "      <td>2.054982e+01</td>\n",
       "      <td>7.348084e+01</td>\n",
       "      <td>5.296628e+01</td>\n",
       "      <td>8.034921e+00</td>\n",
       "      <td>9.664310e+02</td>\n",
       "      <td>1.924765e-01</td>\n",
       "      <td>4.754889e-02</td>\n",
       "      <td>2.551359e-03</td>\n",
       "    </tr>\n",
       "    <tr>\n",
       "      <th>std</th>\n",
       "      <td>9.962065e+04</td>\n",
       "      <td>3.841529e+04</td>\n",
       "      <td>2.218501e+01</td>\n",
       "      <td>3.454415e+00</td>\n",
       "      <td>8.798170e+00</td>\n",
       "      <td>1.697246e+01</td>\n",
       "      <td>5.557121e+00</td>\n",
       "      <td>2.635599e+03</td>\n",
       "      <td>7.685869e+00</td>\n",
       "      <td>3.947508e+03</td>\n",
       "      <td>1.044634e+01</td>\n",
       "      <td>4.351063e+03</td>\n",
       "      <td>1.113624e+01</td>\n",
       "      <td>3.481627e+02</td>\n",
       "      <td>8.897862e+00</td>\n",
       "      <td>1.582150e+02</td>\n",
       "      <td>6.404311e+00</td>\n",
       "      <td>2.567471e+02</td>\n",
       "      <td>2.637000e+02</td>\n",
       "      <td>2.712208e+01</td>\n",
       "      <td>1.794227e+02</td>\n",
       "      <td>3.942453e-01</td>\n",
       "      <td>2.168805e-01</td>\n",
       "      <td>6.552851e-02</td>\n",
       "    </tr>\n",
       "    <tr>\n",
       "      <th>min</th>\n",
       "      <td>6.914840e+05</td>\n",
       "      <td>1.210000e+02</td>\n",
       "      <td>1.931000e+03</td>\n",
       "      <td>1.000000e+00</td>\n",
       "      <td>1.000000e+00</td>\n",
       "      <td>-4.920000e+01</td>\n",
       "      <td>4.000000e+00</td>\n",
       "      <td>-8.450000e+01</td>\n",
       "      <td>0.000000e+00</td>\n",
       "      <td>9.169000e+02</td>\n",
       "      <td>0.000000e+00</td>\n",
       "      <td>0.000000e+00</td>\n",
       "      <td>0.000000e+00</td>\n",
       "      <td>0.000000e+00</td>\n",
       "      <td>0.000000e+00</td>\n",
       "      <td>0.000000e+00</td>\n",
       "      <td>0.000000e+00</td>\n",
       "      <td>-3.800000e+01</td>\n",
       "      <td>-5.310000e+01</td>\n",
       "      <td>0.000000e+00</td>\n",
       "      <td>4.000000e-01</td>\n",
       "      <td>0.000000e+00</td>\n",
       "      <td>0.000000e+00</td>\n",
       "      <td>0.000000e+00</td>\n",
       "    </tr>\n",
       "    <tr>\n",
       "      <th>25%</th>\n",
       "      <td>7.227880e+05</td>\n",
       "      <td>2.318300e+04</td>\n",
       "      <td>1.978000e+03</td>\n",
       "      <td>3.000000e+00</td>\n",
       "      <td>8.000000e+00</td>\n",
       "      <td>4.640000e+01</td>\n",
       "      <td>2.300000e+01</td>\n",
       "      <td>3.100000e+01</td>\n",
       "      <td>1.600000e+01</td>\n",
       "      <td>1.013000e+03</td>\n",
       "      <td>0.000000e+00</td>\n",
       "      <td>9.347000e+02</td>\n",
       "      <td>0.000000e+00</td>\n",
       "      <td>9.800000e+00</td>\n",
       "      <td>1.400000e+01</td>\n",
       "      <td>4.000000e+00</td>\n",
       "      <td>2.100000e+01</td>\n",
       "      <td>5.590000e+01</td>\n",
       "      <td>3.700000e+01</td>\n",
       "      <td>0.000000e+00</td>\n",
       "      <td>9.999000e+02</td>\n",
       "      <td>0.000000e+00</td>\n",
       "      <td>0.000000e+00</td>\n",
       "      <td>0.000000e+00</td>\n",
       "    </tr>\n",
       "    <tr>\n",
       "      <th>50%</th>\n",
       "      <td>7.248800e+05</td>\n",
       "      <td>2.423300e+04</td>\n",
       "      <td>1.998000e+03</td>\n",
       "      <td>7.000000e+00</td>\n",
       "      <td>1.600000e+01</td>\n",
       "      <td>5.750000e+01</td>\n",
       "      <td>2.400000e+01</td>\n",
       "      <td>4.300000e+01</td>\n",
       "      <td>2.400000e+01</td>\n",
       "      <td>1.017900e+03</td>\n",
       "      <td>2.300000e+01</td>\n",
       "      <td>1.011500e+03</td>\n",
       "      <td>1.300000e+01</td>\n",
       "      <td>1.290000e+01</td>\n",
       "      <td>2.400000e+01</td>\n",
       "      <td>5.800000e+00</td>\n",
       "      <td>2.400000e+01</td>\n",
       "      <td>6.800000e+01</td>\n",
       "      <td>4.800000e+01</td>\n",
       "      <td>0.000000e+00</td>\n",
       "      <td>9.999000e+02</td>\n",
       "      <td>0.000000e+00</td>\n",
       "      <td>0.000000e+00</td>\n",
       "      <td>0.000000e+00</td>\n",
       "    </tr>\n",
       "    <tr>\n",
       "      <th>75%</th>\n",
       "      <td>7.278550e+05</td>\n",
       "      <td>9.999900e+04</td>\n",
       "      <td>2.012000e+03</td>\n",
       "      <td>1.000000e+01</td>\n",
       "      <td>2.300000e+01</td>\n",
       "      <td>6.610000e+01</td>\n",
       "      <td>2.400000e+01</td>\n",
       "      <td>5.300000e+01</td>\n",
       "      <td>2.400000e+01</td>\n",
       "      <td>9.999900e+03</td>\n",
       "      <td>2.400000e+01</td>\n",
       "      <td>9.999900e+03</td>\n",
       "      <td>2.400000e+01</td>\n",
       "      <td>3.230000e+01</td>\n",
       "      <td>2.400000e+01</td>\n",
       "      <td>8.100000e+00</td>\n",
       "      <td>2.400000e+01</td>\n",
       "      <td>7.880000e+01</td>\n",
       "      <td>5.680000e+01</td>\n",
       "      <td>0.000000e+00</td>\n",
       "      <td>9.999000e+02</td>\n",
       "      <td>0.000000e+00</td>\n",
       "      <td>0.000000e+00</td>\n",
       "      <td>0.000000e+00</td>\n",
       "    </tr>\n",
       "    <tr>\n",
       "      <th>max</th>\n",
       "      <td>9.999990e+05</td>\n",
       "      <td>9.999900e+04</td>\n",
       "      <td>2.022000e+03</td>\n",
       "      <td>1.200000e+01</td>\n",
       "      <td>3.100000e+01</td>\n",
       "      <td>1.099000e+02</td>\n",
       "      <td>2.400000e+01</td>\n",
       "      <td>9.999900e+03</td>\n",
       "      <td>2.400000e+01</td>\n",
       "      <td>9.999900e+03</td>\n",
       "      <td>2.400000e+01</td>\n",
       "      <td>9.999900e+03</td>\n",
       "      <td>2.400000e+01</td>\n",
       "      <td>9.999000e+02</td>\n",
       "      <td>2.400000e+01</td>\n",
       "      <td>9.999000e+02</td>\n",
       "      <td>2.400000e+01</td>\n",
       "      <td>9.999900e+03</td>\n",
       "      <td>9.999900e+03</td>\n",
       "      <td>9.999000e+01</td>\n",
       "      <td>9.999000e+02</td>\n",
       "      <td>1.000000e+00</td>\n",
       "      <td>1.000000e+01</td>\n",
       "      <td>1.000000e+01</td>\n",
       "    </tr>\n",
       "  </tbody>\n",
       "</table>\n",
       "</div>"
      ],
      "text/plain": [
       "                stn          wban          year            mo            da  \\\n",
       "count  1.852346e+06  1.852346e+06  1.852346e+06  1.852346e+06  1.852346e+06   \n",
       "mean   7.657544e+05  5.596731e+04  1.993033e+03  6.502181e+00  1.572011e+01   \n",
       "std    9.962065e+04  3.841529e+04  2.218501e+01  3.454415e+00  8.798170e+00   \n",
       "min    6.914840e+05  1.210000e+02  1.931000e+03  1.000000e+00  1.000000e+00   \n",
       "25%    7.227880e+05  2.318300e+04  1.978000e+03  3.000000e+00  8.000000e+00   \n",
       "50%    7.248800e+05  2.423300e+04  1.998000e+03  7.000000e+00  1.600000e+01   \n",
       "75%    7.278550e+05  9.999900e+04  2.012000e+03  1.000000e+01  2.300000e+01   \n",
       "max    9.999990e+05  9.999900e+04  2.022000e+03  1.200000e+01  3.100000e+01   \n",
       "\n",
       "               temp    count_temp          dewp    count_dewp           slp  \\\n",
       "count  1.852346e+06  1.852346e+06  1.852346e+06  1.852346e+06  1.852346e+06   \n",
       "mean   5.580638e+01  2.115253e+01  7.938900e+02  1.958347e+01  3.363682e+03   \n",
       "std    1.697246e+01  5.557121e+00  2.635599e+03  7.685869e+00  3.947508e+03   \n",
       "min   -4.920000e+01  4.000000e+00 -8.450000e+01  0.000000e+00  9.169000e+02   \n",
       "25%    4.640000e+01  2.300000e+01  3.100000e+01  1.600000e+01  1.013000e+03   \n",
       "50%    5.750000e+01  2.400000e+01  4.300000e+01  2.400000e+01  1.017900e+03   \n",
       "75%    6.610000e+01  2.400000e+01  5.300000e+01  2.400000e+01  9.999900e+03   \n",
       "max    1.099000e+02  2.400000e+01  9.999900e+03  2.400000e+01  9.999900e+03   \n",
       "\n",
       "          count_slp           stp     count_stp         visib   count_visib  \\\n",
       "count  1.852346e+06  1.852346e+06  1.852346e+06  1.852346e+06  1.852346e+06   \n",
       "mean   1.544760e+01  4.144599e+03  1.250161e+01  1.611490e+02  1.823835e+01   \n",
       "std    1.044634e+01  4.351063e+03  1.113624e+01  3.481627e+02  8.897862e+00   \n",
       "min    0.000000e+00  0.000000e+00  0.000000e+00  0.000000e+00  0.000000e+00   \n",
       "25%    0.000000e+00  9.347000e+02  0.000000e+00  9.800000e+00  1.400000e+01   \n",
       "50%    2.300000e+01  1.011500e+03  1.300000e+01  1.290000e+01  2.400000e+01   \n",
       "75%    2.400000e+01  9.999900e+03  2.400000e+01  3.230000e+01  2.400000e+01   \n",
       "max    2.400000e+01  9.999900e+03  2.400000e+01  9.999000e+02  2.400000e+01   \n",
       "\n",
       "               wdsp    count_wdsp           max           min          prcp  \\\n",
       "count  1.852346e+06  1.852346e+06  1.852346e+06  1.852346e+06  1.852346e+06   \n",
       "mean   3.203407e+01  2.054982e+01  7.348084e+01  5.296628e+01  8.034921e+00   \n",
       "std    1.582150e+02  6.404311e+00  2.567471e+02  2.637000e+02  2.712208e+01   \n",
       "min    0.000000e+00  0.000000e+00 -3.800000e+01 -5.310000e+01  0.000000e+00   \n",
       "25%    4.000000e+00  2.100000e+01  5.590000e+01  3.700000e+01  0.000000e+00   \n",
       "50%    5.800000e+00  2.400000e+01  6.800000e+01  4.800000e+01  0.000000e+00   \n",
       "75%    8.100000e+00  2.400000e+01  7.880000e+01  5.680000e+01  0.000000e+00   \n",
       "max    9.999000e+02  2.400000e+01  9.999900e+03  9.999900e+03  9.999000e+01   \n",
       "\n",
       "               sndp  rain_drizzle  snow_ice_pellets          hail  \n",
       "count  1.852346e+06  1.852346e+06      1.852346e+06  1.852346e+06  \n",
       "mean   9.664310e+02  1.924765e-01      4.754889e-02  2.551359e-03  \n",
       "std    1.794227e+02  3.942453e-01      2.168805e-01  6.552851e-02  \n",
       "min    4.000000e-01  0.000000e+00      0.000000e+00  0.000000e+00  \n",
       "25%    9.999000e+02  0.000000e+00      0.000000e+00  0.000000e+00  \n",
       "50%    9.999000e+02  0.000000e+00      0.000000e+00  0.000000e+00  \n",
       "75%    9.999000e+02  0.000000e+00      0.000000e+00  0.000000e+00  \n",
       "max    9.999000e+02  1.000000e+00      1.000000e+01  1.000000e+01  "
      ]
     },
     "execution_count": 8,
     "metadata": {},
     "output_type": "execute_result"
    }
   ],
   "source": [
    "gsod.describe()"
   ]
  },
  {
   "cell_type": "code",
   "execution_count": 9,
   "id": "0923f0b3-aac8-4e50-9ad9-8823dccb20d0",
   "metadata": {},
   "outputs": [
    {
     "data": {
      "text/plain": [
       "rain_drizzle  snow_ice_pellets  hail\n",
       "0             0                 0       1436083\n",
       "1             0                 0        324909\n",
       "0             1                 0         58213\n",
       "1             1                 0         28739\n",
       "              0                 1          2161\n",
       "0             0                 1          1440\n",
       "1             1                 1           724\n",
       "0             1                 1            41\n",
       "              10                10           36\n",
       "dtype: int64"
      ]
     },
     "execution_count": 9,
     "metadata": {},
     "output_type": "execute_result"
    }
   ],
   "source": [
    "gsod[['rain_drizzle', 'snow_ice_pellets', 'hail']].value_counts()"
   ]
  },
  {
   "cell_type": "code",
   "execution_count": 10,
   "id": "129536c4-5f02-4e87-bf33-4f6923c8d9c4",
   "metadata": {},
   "outputs": [
    {
     "data": {
      "text/plain": [
       "stn                      0\n",
       "wban                     0\n",
       "year                     0\n",
       "mo                       0\n",
       "da                       0\n",
       "temp                     0\n",
       "count_temp               0\n",
       "dewp                     0\n",
       "count_dewp               0\n",
       "slp                      0\n",
       "count_slp                0\n",
       "stp                      0\n",
       "count_stp                0\n",
       "visib                    0\n",
       "count_visib              0\n",
       "wdsp                     0\n",
       "count_wdsp               0\n",
       "max                      0\n",
       "flag_max            717620\n",
       "min                      0\n",
       "flag_min            793158\n",
       "prcp                     0\n",
       "flag_prcp           148243\n",
       "sndp                     0\n",
       "rain_drizzle             0\n",
       "snow_ice_pellets         0\n",
       "hail                     0\n",
       "dtype: int64"
      ]
     },
     "execution_count": 10,
     "metadata": {},
     "output_type": "execute_result"
    }
   ],
   "source": [
    "gsod.isna().sum()"
   ]
  },
  {
   "cell_type": "code",
   "execution_count": 11,
   "id": "439830c4-d332-4fab-8e41-0b812103f3d1",
   "metadata": {},
   "outputs": [
    {
     "data": {
      "text/html": [
       "<div>\n",
       "<style scoped>\n",
       "    .dataframe tbody tr th:only-of-type {\n",
       "        vertical-align: middle;\n",
       "    }\n",
       "\n",
       "    .dataframe tbody tr th {\n",
       "        vertical-align: top;\n",
       "    }\n",
       "\n",
       "    .dataframe thead th {\n",
       "        text-align: right;\n",
       "    }\n",
       "</style>\n",
       "<table border=\"1\" class=\"dataframe\">\n",
       "  <thead>\n",
       "    <tr style=\"text-align: right;\">\n",
       "      <th></th>\n",
       "      <th>stn</th>\n",
       "      <th>wban</th>\n",
       "      <th>year</th>\n",
       "      <th>mo</th>\n",
       "      <th>da</th>\n",
       "      <th>temp</th>\n",
       "      <th>count_temp</th>\n",
       "      <th>dewp</th>\n",
       "      <th>count_dewp</th>\n",
       "      <th>slp</th>\n",
       "      <th>count_slp</th>\n",
       "      <th>stp</th>\n",
       "      <th>count_stp</th>\n",
       "      <th>visib</th>\n",
       "      <th>count_visib</th>\n",
       "      <th>wdsp</th>\n",
       "      <th>count_wdsp</th>\n",
       "      <th>max</th>\n",
       "      <th>flag_max</th>\n",
       "      <th>min</th>\n",
       "      <th>flag_min</th>\n",
       "      <th>prcp</th>\n",
       "      <th>flag_prcp</th>\n",
       "      <th>sndp</th>\n",
       "      <th>rain_drizzle</th>\n",
       "      <th>snow_ice_pellets</th>\n",
       "      <th>hail</th>\n",
       "    </tr>\n",
       "  </thead>\n",
       "  <tbody>\n",
       "    <tr>\n",
       "      <th>0</th>\n",
       "      <td>691484</td>\n",
       "      <td>99999</td>\n",
       "      <td>1985</td>\n",
       "      <td>1</td>\n",
       "      <td>26</td>\n",
       "      <td>38.1</td>\n",
       "      <td>5</td>\n",
       "      <td>37.4</td>\n",
       "      <td>5</td>\n",
       "      <td>9999.9</td>\n",
       "      <td>0</td>\n",
       "      <td>9999.9</td>\n",
       "      <td>0</td>\n",
       "      <td>4.8</td>\n",
       "      <td>5</td>\n",
       "      <td>5.2</td>\n",
       "      <td>5</td>\n",
       "      <td>39.2</td>\n",
       "      <td>*</td>\n",
       "      <td>37.4</td>\n",
       "      <td>*</td>\n",
       "      <td>99.99</td>\n",
       "      <td>NaN</td>\n",
       "      <td>0.8</td>\n",
       "      <td>1</td>\n",
       "      <td>0</td>\n",
       "      <td>0</td>\n",
       "    </tr>\n",
       "    <tr>\n",
       "      <th>1</th>\n",
       "      <td>691484</td>\n",
       "      <td>99999</td>\n",
       "      <td>1985</td>\n",
       "      <td>1</td>\n",
       "      <td>27</td>\n",
       "      <td>34.5</td>\n",
       "      <td>5</td>\n",
       "      <td>30.6</td>\n",
       "      <td>5</td>\n",
       "      <td>9999.9</td>\n",
       "      <td>0</td>\n",
       "      <td>9999.9</td>\n",
       "      <td>0</td>\n",
       "      <td>4.9</td>\n",
       "      <td>5</td>\n",
       "      <td>3.8</td>\n",
       "      <td>5</td>\n",
       "      <td>39.2</td>\n",
       "      <td>*</td>\n",
       "      <td>30.2</td>\n",
       "      <td>*</td>\n",
       "      <td>99.99</td>\n",
       "      <td>NaN</td>\n",
       "      <td>999.9</td>\n",
       "      <td>1</td>\n",
       "      <td>1</td>\n",
       "      <td>0</td>\n",
       "    </tr>\n",
       "    <tr>\n",
       "      <th>2</th>\n",
       "      <td>691484</td>\n",
       "      <td>99999</td>\n",
       "      <td>1985</td>\n",
       "      <td>1</td>\n",
       "      <td>28</td>\n",
       "      <td>26.9</td>\n",
       "      <td>17</td>\n",
       "      <td>20.1</td>\n",
       "      <td>17</td>\n",
       "      <td>9999.9</td>\n",
       "      <td>0</td>\n",
       "      <td>9999.9</td>\n",
       "      <td>0</td>\n",
       "      <td>5.9</td>\n",
       "      <td>17</td>\n",
       "      <td>2.5</td>\n",
       "      <td>17</td>\n",
       "      <td>33.8</td>\n",
       "      <td>*</td>\n",
       "      <td>19.4</td>\n",
       "      <td>*</td>\n",
       "      <td>0.00</td>\n",
       "      <td>I</td>\n",
       "      <td>999.9</td>\n",
       "      <td>0</td>\n",
       "      <td>0</td>\n",
       "      <td>0</td>\n",
       "    </tr>\n",
       "    <tr>\n",
       "      <th>3</th>\n",
       "      <td>691484</td>\n",
       "      <td>99999</td>\n",
       "      <td>1985</td>\n",
       "      <td>1</td>\n",
       "      <td>29</td>\n",
       "      <td>32.6</td>\n",
       "      <td>14</td>\n",
       "      <td>29.0</td>\n",
       "      <td>14</td>\n",
       "      <td>9999.9</td>\n",
       "      <td>0</td>\n",
       "      <td>9999.9</td>\n",
       "      <td>0</td>\n",
       "      <td>3.9</td>\n",
       "      <td>14</td>\n",
       "      <td>0.8</td>\n",
       "      <td>14</td>\n",
       "      <td>35.6</td>\n",
       "      <td>*</td>\n",
       "      <td>28.4</td>\n",
       "      <td>*</td>\n",
       "      <td>0.00</td>\n",
       "      <td>I</td>\n",
       "      <td>999.9</td>\n",
       "      <td>0</td>\n",
       "      <td>0</td>\n",
       "      <td>0</td>\n",
       "    </tr>\n",
       "    <tr>\n",
       "      <th>4</th>\n",
       "      <td>691484</td>\n",
       "      <td>99999</td>\n",
       "      <td>1985</td>\n",
       "      <td>1</td>\n",
       "      <td>30</td>\n",
       "      <td>39.6</td>\n",
       "      <td>9</td>\n",
       "      <td>36.8</td>\n",
       "      <td>9</td>\n",
       "      <td>9999.9</td>\n",
       "      <td>0</td>\n",
       "      <td>9999.9</td>\n",
       "      <td>0</td>\n",
       "      <td>4.5</td>\n",
       "      <td>9</td>\n",
       "      <td>3.2</td>\n",
       "      <td>9</td>\n",
       "      <td>44.6</td>\n",
       "      <td>*</td>\n",
       "      <td>37.4</td>\n",
       "      <td>*</td>\n",
       "      <td>99.99</td>\n",
       "      <td>NaN</td>\n",
       "      <td>999.9</td>\n",
       "      <td>1</td>\n",
       "      <td>0</td>\n",
       "      <td>0</td>\n",
       "    </tr>\n",
       "  </tbody>\n",
       "</table>\n",
       "</div>"
      ],
      "text/plain": [
       "      stn   wban  year  mo  da  temp  count_temp  dewp  count_dewp     slp  \\\n",
       "0  691484  99999  1985   1  26  38.1           5  37.4           5  9999.9   \n",
       "1  691484  99999  1985   1  27  34.5           5  30.6           5  9999.9   \n",
       "2  691484  99999  1985   1  28  26.9          17  20.1          17  9999.9   \n",
       "3  691484  99999  1985   1  29  32.6          14  29.0          14  9999.9   \n",
       "4  691484  99999  1985   1  30  39.6           9  36.8           9  9999.9   \n",
       "\n",
       "   count_slp     stp  count_stp  visib  count_visib  wdsp  count_wdsp   max  \\\n",
       "0          0  9999.9          0    4.8            5   5.2           5  39.2   \n",
       "1          0  9999.9          0    4.9            5   3.8           5  39.2   \n",
       "2          0  9999.9          0    5.9           17   2.5          17  33.8   \n",
       "3          0  9999.9          0    3.9           14   0.8          14  35.6   \n",
       "4          0  9999.9          0    4.5            9   3.2           9  44.6   \n",
       "\n",
       "  flag_max   min flag_min   prcp flag_prcp   sndp  rain_drizzle  \\\n",
       "0        *  37.4        *  99.99       NaN    0.8             1   \n",
       "1        *  30.2        *  99.99       NaN  999.9             1   \n",
       "2        *  19.4        *   0.00         I  999.9             0   \n",
       "3        *  28.4        *   0.00         I  999.9             0   \n",
       "4        *  37.4        *  99.99       NaN  999.9             1   \n",
       "\n",
       "   snow_ice_pellets  hail  \n",
       "0                 0     0  \n",
       "1                 1     0  \n",
       "2                 0     0  \n",
       "3                 0     0  \n",
       "4                 0     0  "
      ]
     },
     "execution_count": 11,
     "metadata": {},
     "output_type": "execute_result"
    }
   ],
   "source": [
    "gsod.head()"
   ]
  },
  {
   "cell_type": "code",
   "execution_count": 12,
   "id": "efae4620-ca7d-4c28-8a93-d9aa805d1a03",
   "metadata": {},
   "outputs": [],
   "source": [
    "# rename and set dtypes -- only transform is parsing dates\n",
    "gsod = rs._load_gsod('../data/raw/data_candidate_stations_50km_10yr.csv')"
   ]
  },
  {
   "cell_type": "code",
   "execution_count": 13,
   "id": "20d1820f-e7de-408c-a457-f3ccc0d1a8a7",
   "metadata": {},
   "outputs": [
    {
     "name": "stdout",
     "output_type": "stream",
     "text": [
      "<class 'pandas.core.frame.DataFrame'>\n",
      "RangeIndex: 1852346 entries, 0 to 1852345\n",
      "Data columns (total 25 columns):\n",
      " #   Column                          Dtype         \n",
      "---  ------                          -----         \n",
      " 0   timestamp                       datetime64[ns]\n",
      " 1   usaf                            object        \n",
      " 2   wban                            object        \n",
      " 3   temp_f_mean                     float32       \n",
      " 4   temp_count                      uint8         \n",
      " 5   dew_point_f_mean                float32       \n",
      " 6   dew_point_count                 uint8         \n",
      " 7   sea_level_pressure_mbar_mean    float32       \n",
      " 8   sea_level_pressure_count        uint8         \n",
      " 9   pressure_mbar_mean              float32       \n",
      " 10  pressure_count                  uint8         \n",
      " 11  visbility_miles_mean            float32       \n",
      " 12  visbility_count                 uint8         \n",
      " 13  wind_speed_knots_mean           float32       \n",
      " 14  wind_speed_count                uint8         \n",
      " 15  temp_f_max                      float32       \n",
      " 16  temp_max_measurement_type       object        \n",
      " 17  temp_f_min                      float32       \n",
      " 18  temp_min_measurement_type       object        \n",
      " 19  precipitation_total_inches      float32       \n",
      " 20  precipitation_measurement_type  object        \n",
      " 21  snow_depth_inches               float32       \n",
      " 22  had_rain                        uint8         \n",
      " 23  had_snow_ice                    uint8         \n",
      " 24  had_hail                        uint8         \n",
      "dtypes: datetime64[ns](1), float32(10), object(5), uint8(9)\n",
      "memory usage: 171.4+ MB\n"
     ]
    }
   ],
   "source": [
    "gsod.info()"
   ]
  },
  {
   "cell_type": "markdown",
   "id": "75689806-4083-4dfa-974f-ebd4dd4130b4",
   "metadata": {},
   "source": [
    "# QA\n",
    "## Accuracy\n",
    "Defer. The best source of comparison data are other nearby stations. Will use a \"majority vote\" kind of strategy to assess this later.\n",
    "## Consistency\n",
    "The scope here is consistency *between* datasets, not over time (though that is critical and will be assessed later). The only other dataset is the station list.\n",
    "- [x] begin/end dates\n",
    "**Conclusion:** 30% of date ranges from the station list were off by at least a week, 20% by at least a year, and 10% by at least 5 years! This suggests that my initial station filtering (which assumed reliable duration info) may contain significant errors on up to 20% of stations. I may want to revisit the filtering criteria based on empirical duration info."
   ]
  },
  {
   "cell_type": "code",
   "execution_count": 14,
   "id": "3119a84b-eb40-44ab-adfb-079ea0325edf",
   "metadata": {},
   "outputs": [],
   "source": [
    "stations = pd.read_csv('../data/interim/candidate_stations_50km_10yr.csv', dtype={'usaf': str, 'wban': str}, parse_dates=['begin', 'end'])"
   ]
  },
  {
   "cell_type": "code",
   "execution_count": 15,
   "id": "85a18f34-ea13-4af2-a9aa-fbc302cc7a54",
   "metadata": {},
   "outputs": [
    {
     "name": "stdout",
     "output_type": "stream",
     "text": [
      "<class 'pandas.core.frame.DataFrame'>\n",
      "RangeIndex: 235 entries, 0 to 234\n",
      "Data columns (total 12 columns):\n",
      " #   Column          Non-Null Count  Dtype         \n",
      "---  ------          --------------  -----         \n",
      " 0   usaf            235 non-null    object        \n",
      " 1   wban            235 non-null    object        \n",
      " 2   name            235 non-null    object        \n",
      " 3   country         235 non-null    object        \n",
      " 4   state           198 non-null    object        \n",
      " 5   call            181 non-null    object        \n",
      " 6   lat             235 non-null    float64       \n",
      " 7   lon             235 non-null    float64       \n",
      " 8   elev            235 non-null    float64       \n",
      " 9   begin           235 non-null    datetime64[ns]\n",
      " 10  end             235 non-null    datetime64[ns]\n",
      " 11  duration_years  235 non-null    float64       \n",
      "dtypes: datetime64[ns](2), float64(4), object(6)\n",
      "memory usage: 22.2+ KB\n"
     ]
    }
   ],
   "source": [
    "stations.info()"
   ]
  },
  {
   "cell_type": "code",
   "execution_count": 16,
   "id": "7c85f6b0-0aba-4b15-a959-85815fe3fb24",
   "metadata": {},
   "outputs": [],
   "source": [
    "data_periods = gsod.groupby(['usaf', 'wban'])['timestamp'].agg(['min', 'max', 'count'])"
   ]
  },
  {
   "cell_type": "code",
   "execution_count": 17,
   "id": "37e41ac4-5fc4-426c-b461-c6d888bbf57a",
   "metadata": {},
   "outputs": [
    {
     "data": {
      "text/html": [
       "<div>\n",
       "<style scoped>\n",
       "    .dataframe tbody tr th:only-of-type {\n",
       "        vertical-align: middle;\n",
       "    }\n",
       "\n",
       "    .dataframe tbody tr th {\n",
       "        vertical-align: top;\n",
       "    }\n",
       "\n",
       "    .dataframe thead th {\n",
       "        text-align: right;\n",
       "    }\n",
       "</style>\n",
       "<table border=\"1\" class=\"dataframe\">\n",
       "  <thead>\n",
       "    <tr style=\"text-align: right;\">\n",
       "      <th></th>\n",
       "      <th></th>\n",
       "      <th>min</th>\n",
       "      <th>max</th>\n",
       "      <th>count</th>\n",
       "    </tr>\n",
       "    <tr>\n",
       "      <th>usaf</th>\n",
       "      <th>wban</th>\n",
       "      <th></th>\n",
       "      <th></th>\n",
       "      <th></th>\n",
       "    </tr>\n",
       "  </thead>\n",
       "  <tbody>\n",
       "    <tr>\n",
       "      <th>691484</th>\n",
       "      <th>99999</th>\n",
       "      <td>1985-01-26</td>\n",
       "      <td>2012-06-18</td>\n",
       "      <td>182</td>\n",
       "    </tr>\n",
       "    <tr>\n",
       "      <th>710370</th>\n",
       "      <th>99999</th>\n",
       "      <td>2003-06-17</td>\n",
       "      <td>2022-04-16</td>\n",
       "      <td>6794</td>\n",
       "    </tr>\n",
       "    <tr>\n",
       "      <th>710420</th>\n",
       "      <th>99999</th>\n",
       "      <td>2001-09-16</td>\n",
       "      <td>2022-04-16</td>\n",
       "      <td>5001</td>\n",
       "    </tr>\n",
       "    <tr>\n",
       "      <th>710670</th>\n",
       "      <th>99999</th>\n",
       "      <td>2008-04-02</td>\n",
       "      <td>2022-04-16</td>\n",
       "      <td>4882</td>\n",
       "    </tr>\n",
       "    <tr>\n",
       "      <th>711120</th>\n",
       "      <th>99999</th>\n",
       "      <td>1980-10-01</td>\n",
       "      <td>2013-10-28</td>\n",
       "      <td>5667</td>\n",
       "    </tr>\n",
       "  </tbody>\n",
       "</table>\n",
       "</div>"
      ],
      "text/plain": [
       "                    min        max  count\n",
       "usaf   wban                              \n",
       "691484 99999 1985-01-26 2012-06-18    182\n",
       "710370 99999 2003-06-17 2022-04-16   6794\n",
       "710420 99999 2001-09-16 2022-04-16   5001\n",
       "710670 99999 2008-04-02 2022-04-16   4882\n",
       "711120 99999 1980-10-01 2013-10-28   5667"
      ]
     },
     "execution_count": 17,
     "metadata": {},
     "output_type": "execute_result"
    }
   ],
   "source": [
    "data_periods.head()"
   ]
  },
  {
   "cell_type": "code",
   "execution_count": 18,
   "id": "943979ef-631c-4f3d-82c2-640c2244096e",
   "metadata": {},
   "outputs": [],
   "source": [
    "data_periods = data_periods.join(stations.set_index(['wban', 'usaf'])[['begin', 'end']])"
   ]
  },
  {
   "cell_type": "code",
   "execution_count": 19,
   "id": "1dea122c-9dd3-4392-a927-d469f04d01d4",
   "metadata": {},
   "outputs": [],
   "source": [
    "seconds_per_day = 60 * 60 * 24"
   ]
  },
  {
   "cell_type": "code",
   "execution_count": 20,
   "id": "534a853e-192b-423f-8a84-f8bb63692820",
   "metadata": {},
   "outputs": [],
   "source": [
    "data_periods['expected_duration_days'] = data_periods['end'].sub(data_periods['begin']).dt.total_seconds() / seconds_per_day\n",
    "data_periods['actual_duration_days'] = data_periods['max'].sub(data_periods['min']).dt.total_seconds() / seconds_per_day"
   ]
  },
  {
   "cell_type": "code",
   "execution_count": 21,
   "id": "2a5c9134-82be-44fd-8bc1-6a51bf9fb76f",
   "metadata": {},
   "outputs": [],
   "source": [
    "data_periods['diff_duration_days'] = data_periods['expected_duration_days'] - data_periods['actual_duration_days']"
   ]
  },
  {
   "cell_type": "code",
   "execution_count": 22,
   "id": "3ae28a5e-97fb-48e2-af8f-48315c3c7f9b",
   "metadata": {},
   "outputs": [
    {
     "data": {
      "text/plain": [
       "<AxesSubplot:>"
      ]
     },
     "execution_count": 22,
     "metadata": {},
     "output_type": "execute_result"
    },
    {
     "data": {
      "image/png": "[encoded data removed]",
      "text/plain": [
       "<Figure size 432x288 with 1 Axes>"
      ]
     },
     "metadata": {
      "needs_background": "light"
     },
     "output_type": "display_data"
    }
   ],
   "source": [
    "data_periods['diff_duration_days'].hist(bins=30)"
   ]
  },
  {
   "cell_type": "code",
   "execution_count": 23,
   "id": "e34636d4-a66d-409b-b650-3ccfd326152c",
   "metadata": {},
   "outputs": [
    {
     "data": {
      "text/plain": [
       "<AxesSubplot:>"
      ]
     },
     "execution_count": 23,
     "metadata": {},
     "output_type": "execute_result"
    },
    {
     "data": {
      "image/png": "[encoded data removed]",
      "text/plain": [
       "<Figure size 432x288 with 1 Axes>"
      ]
     },
     "metadata": {
      "needs_background": "light"
     },
     "output_type": "display_data"
    }
   ],
   "source": [
    "# zoom in\n",
    "# weird double peak -- maybe because station list end dates are out of date?\n",
    "data_periods['diff_duration_days'].hist(bins=30, range=(-1000, 1000))"
   ]
  },
  {
   "cell_type": "code",
   "execution_count": 24,
   "id": "c3e46cb1-eed6-466f-af9f-9e05807216e9",
   "metadata": {},
   "outputs": [
    {
     "data": {
      "text/plain": [
       "195   2021-09-22\n",
       "196   2021-09-22\n",
       "197   2021-09-22\n",
       "113   2021-09-21\n",
       "114   2021-09-21\n",
       "Name: end, dtype: datetime64[ns]"
      ]
     },
     "execution_count": 24,
     "metadata": {},
     "output_type": "execute_result"
    }
   ],
   "source": [
    "# yep, out of date\n",
    "stations['end'].nlargest(5)"
   ]
  },
  {
   "cell_type": "code",
   "execution_count": 25,
   "id": "cbf82dc5-ab55-47f1-b898-75ae052f0047",
   "metadata": {},
   "outputs": [
    {
     "data": {
      "text/plain": [
       "max\n",
       "False    AxesSubplot(0.125,0.125;0.775x0.755)\n",
       "True     AxesSubplot(0.125,0.125;0.775x0.755)\n",
       "Name: diff_duration_days, dtype: object"
      ]
     },
     "execution_count": 25,
     "metadata": {},
     "output_type": "execute_result"
    },
    {
     "data": {
      "image/png": "[encoded data removed]",
      "text/plain": [
       "<Figure size 432x288 with 1 Axes>"
      ]
     },
     "metadata": {
      "needs_background": "light"
     },
     "output_type": "display_data"
    }
   ],
   "source": [
    "# plot histogram faceted on currently operating stations\n",
    "# confirms the station list out-of-date end-date hypothesis\n",
    "data_periods.groupby(data_periods['max'].dt.year == 2022)['diff_duration_days'].hist(bins=30, range=(-1000, 1000), alpha=0.5)"
   ]
  },
  {
   "cell_type": "code",
   "execution_count": 26,
   "id": "a3033d3a-39d2-4b6d-ac6a-c4ca2c7c5b54",
   "metadata": {},
   "outputs": [],
   "source": [
    "data_periods['is_currently_operating'] = data_periods['max'].dt.year == 2022"
   ]
  },
  {
   "cell_type": "code",
   "execution_count": 27,
   "id": "5c19fdf7-894e-4c5f-b91e-589cdb53b30e",
   "metadata": {},
   "outputs": [],
   "source": [
    "data_periods['begin_diff_days'] = data_periods['begin'].sub(data_periods['min']).dt.total_seconds() / seconds_per_day\n",
    "data_periods['end_diff_days'] = data_periods['end'].sub(data_periods['max']).dt.total_seconds() / seconds_per_day"
   ]
  },
  {
   "cell_type": "code",
   "execution_count": 28,
   "id": "e9b8438d-9e6c-4656-994d-587a86d1d3f6",
   "metadata": {},
   "outputs": [
    {
     "data": {
      "text/plain": [
       "is_currently_operating\n",
       "False    AxesSubplot(0.125,0.125;0.775x0.755)\n",
       "True     AxesSubplot(0.125,0.125;0.775x0.755)\n",
       "Name: begin_diff_days, dtype: object"
      ]
     },
     "execution_count": 28,
     "metadata": {},
     "output_type": "execute_result"
    },
    {
     "data": {
      "image/png": "[encoded data removed]",
      "text/plain": [
       "<Figure size 432x288 with 1 Axes>"
      ]
     },
     "metadata": {
      "needs_background": "light"
     },
     "output_type": "display_data"
    }
   ],
   "source": [
    "# current operation shouldn't effect start date\n",
    "data_periods.groupby('is_currently_operating')['begin_diff_days'].hist(bins=30, alpha=0.5)"
   ]
  },
  {
   "cell_type": "code",
   "execution_count": 29,
   "id": "7e07196a-b2fc-4969-9586-8f975cc2f950",
   "metadata": {},
   "outputs": [
    {
     "data": {
      "text/plain": [
       "0.242152466367713"
      ]
     },
     "execution_count": 29,
     "metadata": {},
     "output_type": "execute_result"
    }
   ],
   "source": [
    "# fraction with difference > 1 week\n",
    "data_periods['begin_diff_days'].abs().gt(7).mean()"
   ]
  },
  {
   "cell_type": "code",
   "execution_count": 30,
   "id": "7067e069-5a38-4823-b457-20fd8246f872",
   "metadata": {},
   "outputs": [
    {
     "data": {
      "text/plain": [
       "is_currently_operating\n",
       "False    AxesSubplot(0.125,0.125;0.775x0.755)\n",
       "True     AxesSubplot(0.125,0.125;0.775x0.755)\n",
       "Name: begin_diff_days, dtype: object"
      ]
     },
     "execution_count": 30,
     "metadata": {},
     "output_type": "execute_result"
    },
    {
     "data": {
      "image/png": "[encoded data removed]",
      "text/plain": [
       "<Figure size 432x288 with 1 Axes>"
      ]
     },
     "metadata": {
      "needs_background": "light"
     },
     "output_type": "display_data"
    }
   ],
   "source": [
    "# zoom in on +- 1 year\n",
    "data_periods.groupby('is_currently_operating')['begin_diff_days'].hist(bins=30, range=(-365, 365), alpha=0.5)"
   ]
  },
  {
   "cell_type": "code",
   "execution_count": 31,
   "id": "f73b3348-b20e-48b9-96df-ba3087b6dffd",
   "metadata": {},
   "outputs": [
    {
     "data": {
      "text/plain": [
       "<AxesSubplot:>"
      ]
     },
     "execution_count": 31,
     "metadata": {},
     "output_type": "execute_result"
    },
    {
     "data": {
      "image/png": "[encoded data removed]",
      "text/plain": [
       "<Figure size 432x288 with 1 Axes>"
      ]
     },
     "metadata": {
      "needs_background": "light"
     },
     "output_type": "display_data"
    }
   ],
   "source": [
    "data_periods['end_diff_days'].hist(bins=30)"
   ]
  },
  {
   "cell_type": "code",
   "execution_count": 32,
   "id": "26f88654-75e3-4a3c-8ab8-101f67f802b5",
   "metadata": {},
   "outputs": [
    {
     "data": {
      "text/plain": [
       "0.25287356321839083"
      ]
     },
     "execution_count": 32,
     "metadata": {},
     "output_type": "execute_result"
    }
   ],
   "source": [
    "# fraction with difference > 1 week\n",
    "# retired stations\n",
    "data_periods.loc[~data_periods['is_currently_operating'], 'end_diff_days'].abs().gt(7).mean()"
   ]
  },
  {
   "cell_type": "code",
   "execution_count": 33,
   "id": "0381aa32-04ff-4155-8a91-6d8f634bf1c5",
   "metadata": {},
   "outputs": [
    {
     "data": {
      "text/plain": [
       "(-208.0, 0.022058823529411766)"
      ]
     },
     "execution_count": 33,
     "metadata": {},
     "output_type": "execute_result"
    }
   ],
   "source": [
    "# current stations\n",
    "median_diff = data_periods.loc[data_periods['is_currently_operating'], 'end_diff_days'].median()\n",
    "median_diff, data_periods.loc[data_periods['is_currently_operating'], 'end_diff_days'].sub(median_diff).abs().gt(7).mean()"
   ]
  },
  {
   "cell_type": "code",
   "execution_count": 34,
   "id": "d6a04821-081f-4210-b3c1-dab33042ab89",
   "metadata": {},
   "outputs": [
    {
     "data": {
      "text/plain": [
       "is_currently_operating\n",
       "False    AxesSubplot(0.125,0.125;0.775x0.755)\n",
       "True     AxesSubplot(0.125,0.125;0.775x0.755)\n",
       "Name: end_diff_days, dtype: object"
      ]
     },
     "execution_count": 34,
     "metadata": {},
     "output_type": "execute_result"
    },
    {
     "data": {
      "image/png": "[encoded data removed]",
      "text/plain": [
       "<Figure size 432x288 with 1 Axes>"
      ]
     },
     "metadata": {
      "needs_background": "light"
     },
     "output_type": "display_data"
    }
   ],
   "source": [
    "data_periods.groupby('is_currently_operating')['end_diff_days'].hist(bins=30, range=(-365, 365), alpha=0.5)"
   ]
  },
  {
   "cell_type": "code",
   "execution_count": 35,
   "id": "3764e708-fd4e-4f3e-b762-b5f7646da031",
   "metadata": {},
   "outputs": [],
   "source": [
    "# replace September 2021 end dates with data download date\n",
    "data_periods['modified_end'] = data_periods['end'].where(data_periods['end'].lt('2021-09-01'), data_periods['max'].max())"
   ]
  },
  {
   "cell_type": "code",
   "execution_count": 36,
   "id": "649b1e04-1039-4928-a046-2384e1ed0371",
   "metadata": {},
   "outputs": [],
   "source": [
    "data_periods['modified_expected_duration_days'] = data_periods['modified_end'].sub(data_periods['begin']).dt.total_seconds() / seconds_per_day"
   ]
  },
  {
   "cell_type": "code",
   "execution_count": 37,
   "id": "f8edadb9-dddb-47a4-8884-8afa56a9a6e0",
   "metadata": {},
   "outputs": [],
   "source": [
    "data_periods['modified_diff_duration_days'] = data_periods['modified_expected_duration_days'] - data_periods['actual_duration_days']"
   ]
  },
  {
   "cell_type": "code",
   "execution_count": 38,
   "id": "f52ce391-b1e2-46ab-9bf9-7ed7dc60b5ed",
   "metadata": {},
   "outputs": [
    {
     "data": {
      "text/plain": [
       "<AxesSubplot:>"
      ]
     },
     "execution_count": 38,
     "metadata": {},
     "output_type": "execute_result"
    },
    {
     "data": {
      "image/png": "[encoded data removed]",
      "text/plain": [
       "<Figure size 432x288 with 1 Axes>"
      ]
     },
     "metadata": {
      "needs_background": "light"
     },
     "output_type": "display_data"
    }
   ],
   "source": [
    "data_periods['modified_diff_duration_days'].hist(bins=30)"
   ]
  },
  {
   "cell_type": "code",
   "execution_count": 39,
   "id": "b012e5a6-1811-4031-b699-09b383fcd09a",
   "metadata": {},
   "outputs": [
    {
     "data": {
      "text/plain": [
       "<AxesSubplot:>"
      ]
     },
     "execution_count": 39,
     "metadata": {},
     "output_type": "execute_result"
    },
    {
     "data": {
      "image/png": "[encoded data removed]",
      "text/plain": [
       "<Figure size 432x288 with 1 Axes>"
      ]
     },
     "metadata": {
      "needs_background": "light"
     },
     "output_type": "display_data"
    }
   ],
   "source": [
    "# zoom in +- 1 year\n",
    "data_periods['modified_diff_duration_days'].hist(bins=30, range=(-365, 365))"
   ]
  },
  {
   "cell_type": "code",
   "execution_count": 40,
   "id": "8f9392f4-bcfc-4470-865c-baba002e27e5",
   "metadata": {},
   "outputs": [
    {
     "data": {
      "text/plain": [
       "<AxesSubplot:>"
      ]
     },
     "execution_count": 40,
     "metadata": {},
     "output_type": "execute_result"
    },
    {
     "data": {
      "image/png": "[encoded data removed]",
      "text/plain": [
       "<Figure size 432x288 with 1 Axes>"
      ]
     },
     "metadata": {
      "needs_background": "light"
     },
     "output_type": "display_data"
    }
   ],
   "source": [
    "# distribution of non-zero diffs\n",
    "data_periods['modified_diff_duration_days'].abs().replace(0, np.nan).transform(np.log10).hist(bins=30)"
   ]
  },
  {
   "cell_type": "code",
   "execution_count": 41,
   "id": "76932a7e-8779-4704-be70-69534a4ded1a",
   "metadata": {},
   "outputs": [
    {
     "data": {
      "text/plain": [
       "0.30493273542600896"
      ]
     },
     "execution_count": 41,
     "metadata": {},
     "output_type": "execute_result"
    }
   ],
   "source": [
    "# fraction with durations off by more than 1 week\n",
    "data_periods['modified_diff_duration_days'].abs().gt(7).mean()"
   ]
  },
  {
   "cell_type": "code",
   "execution_count": 42,
   "id": "66701329-2e1e-43d0-8844-222ed6ba3496",
   "metadata": {},
   "outputs": [
    {
     "data": {
      "text/plain": [
       "0.21524663677130046"
      ]
     },
     "execution_count": 42,
     "metadata": {},
     "output_type": "execute_result"
    }
   ],
   "source": [
    "# fraction with durations off by more than 1 year\n",
    "data_periods['modified_diff_duration_days'].abs().gt(365).mean()"
   ]
  },
  {
   "cell_type": "code",
   "execution_count": 43,
   "id": "9bcfcda1-9b07-4ac9-890e-e6d2dac939a3",
   "metadata": {},
   "outputs": [
    {
     "data": {
      "text/plain": [
       "0.10762331838565023"
      ]
     },
     "execution_count": 43,
     "metadata": {},
     "output_type": "execute_result"
    }
   ],
   "source": [
    "# fraction with durations off by more than 5 years\n",
    "data_periods['modified_diff_duration_days'].abs().gt(365*5).mean()"
   ]
  },
  {
   "cell_type": "markdown",
   "id": "0402f35d-dd3d-4611-9bfe-816068e01123",
   "metadata": {},
   "source": [
    "## Uniformity\n",
    "- [x] NULL values\n",
    "- [ ] units\n",
    "- [ ] \n",
    "### Null Representation\n",
    "Documentation states that different float columns have different null representation - mostly 9999.9, some 999.9, and a few 99.99. I'll first verify that claim and then convert it to np.NaN"
   ]
  },
  {
   "cell_type": "code",
   "execution_count": 44,
   "id": "f8bed689-aa66-44c9-9ee8-7a87f87736fb",
   "metadata": {},
   "outputs": [],
   "source": [
    "nominal_nan = {\n",
    "    'temp_f_mean': 9999.9,\n",
    "    'temp_f_max': 9999.9,\n",
    "    'temp_f_min': 9999.9,\n",
    "    'dew_point_f_mean': 9999.9,\n",
    "    'sea_level_pressure_mbar_mean': 9999.9,\n",
    "    'pressure_mbar_mean': 9999.9,\n",
    "    'visbility_miles_mean': 999.9,\n",
    "    'wind_speed_knots_mean': 999.9,\n",
    "    'snow_depth_inches': 999.9,\n",
    "    # note: see precipitation_measurement_type column for NaN semantics. Sometimes it means 0, sometimes missing.\n",
    "    'precipitation_total_inches': 99.99\n",
    "}"
   ]
  },
  {
   "cell_type": "code",
   "execution_count": 45,
   "id": "fdc0c0bd-1bc4-489e-a12d-c0585cfc7756",
   "metadata": {},
   "outputs": [
    {
     "data": {
      "text/plain": [
       "temp_f_mean                      109.900002\n",
       "temp_f_max                      9999.900391\n",
       "temp_f_min                      9999.900391\n",
       "dew_point_f_mean                9999.900391\n",
       "sea_level_pressure_mbar_mean    9999.900391\n",
       "pressure_mbar_mean              9999.900391\n",
       "visbility_miles_mean             999.900024\n",
       "wind_speed_knots_mean            999.900024\n",
       "snow_depth_inches                999.900024\n",
       "precipitation_total_inches        99.989998\n",
       "dtype: float32"
      ]
     },
     "execution_count": 45,
     "metadata": {},
     "output_type": "execute_result"
    }
   ],
   "source": [
    "# suspicious that there are zero missing temp_f_mean values\n",
    "gsod[nominal_nan.keys()].max()"
   ]
  },
  {
   "cell_type": "code",
   "execution_count": 46,
   "id": "94d66d93-6ba8-4059-8d82-2cd3b8c4455c",
   "metadata": {},
   "outputs": [],
   "source": [
    "for col, sentinel in nominal_nan.items():\n",
    "    is_nan = np.isclose(gsod.loc[:, col], sentinel, rtol=1e-5)\n",
    "    gsod.loc[is_nan, col] = np.nan"
   ]
  },
  {
   "cell_type": "code",
   "execution_count": 47,
   "id": "56a431ff-409d-457f-b0fa-6c0a87123558",
   "metadata": {},
   "outputs": [
    {
     "data": {
      "text/plain": [
       "temp_f_mean                      109.900002\n",
       "temp_f_max                       122.900002\n",
       "temp_f_min                       105.800003\n",
       "dew_point_f_mean                  77.199997\n",
       "sea_level_pressure_mbar_mean    1078.199951\n",
       "pressure_mbar_mean              1042.500000\n",
       "visbility_miles_mean              99.400002\n",
       "wind_speed_knots_mean             73.300003\n",
       "snow_depth_inches                102.400002\n",
       "precipitation_total_inches        12.130000\n",
       "dtype: float32"
      ]
     },
     "execution_count": 47,
     "metadata": {},
     "output_type": "execute_result"
    }
   ],
   "source": [
    "# check next highest values in case multiple sentinel values were used\n",
    "# Looks good!\n",
    "gsod[nominal_nan.keys()].max()"
   ]
  },
  {
   "cell_type": "code",
   "execution_count": 48,
   "id": "82183bd8-f416-43e8-8445-4e1d870caf13",
   "metadata": {},
   "outputs": [
    {
     "data": {
      "text/plain": [
       "temp_f_mean                     0.000000\n",
       "temp_f_max                      0.000665\n",
       "temp_f_min                      0.000700\n",
       "dew_point_f_mean                0.075752\n",
       "sea_level_pressure_mbar_mean    0.261359\n",
       "pressure_mbar_mean              0.355444\n",
       "visbility_miles_mean            0.146820\n",
       "wind_speed_knots_mean           0.026015\n",
       "snow_depth_inches               0.966373\n",
       "precipitation_total_inches      0.080030\n",
       "dtype: float64"
      ]
     },
     "execution_count": 48,
     "metadata": {},
     "output_type": "execute_result"
    }
   ],
   "source": [
    "gsod[nominal_nan.keys()].isna().mean()"
   ]
  },
  {
   "cell_type": "markdown",
   "id": "2703d35b-bee7-4468-a0fe-abfcce989f87",
   "metadata": {},
   "source": [
    "### Units\n",
    "Defer. Max values above look good and thus bound unit problems. But detecting too-large units (centigrade, bar, feet) which produce too-narrow distributions of values requires looking at distributions by station, which is too much effort for this first pass."
   ]
  },
  {
   "cell_type": "markdown",
   "id": "a68e3729-3404-4736-9945-f08e556028c7",
   "metadata": {},
   "source": [
    "## Completeness\n",
    "- [x] date density\n",
    "- [x] nulls\n",
    "\n",
    "**Conclusion:** After filtering for days with at least 20/24 samples, only 45% of stations have at least 80% of their nominal data period available. This may be an inappropriate filter for the handful of stations with non-hourly sample periods, but about 200 of the 223 stations (90%) are likely hourly.\n",
    "### Missing Dates\n",
    "What fraction of timestamps are present between the first and last entry for each station?"
   ]
  },
  {
   "cell_type": "code",
   "execution_count": 49,
   "id": "17dbc082-99e9-405e-b162-e14ca7bc695f",
   "metadata": {},
   "outputs": [],
   "source": [
    "data_periods['expected_days'] = data_periods['max'].sub(data_periods['min']).dt.total_seconds() / seconds_per_day"
   ]
  },
  {
   "cell_type": "code",
   "execution_count": 50,
   "id": "01c4cceb-78fc-4900-a1d0-b6a25d8de411",
   "metadata": {},
   "outputs": [],
   "source": [
    "data_periods['count_diff_days'] = data_periods['expected_days'].sub(data_periods['count'])"
   ]
  },
  {
   "cell_type": "code",
   "execution_count": 51,
   "id": "341456bf-bad0-4b17-bcb1-4ba941d3b3e7",
   "metadata": {},
   "outputs": [],
   "source": [
    "data_periods['frac_diff_days'] = data_periods['count'].div(data_periods['expected_days'])"
   ]
  },
  {
   "cell_type": "code",
   "execution_count": 52,
   "id": "d8969b28-fed4-4713-a15a-771ac4e45b52",
   "metadata": {},
   "outputs": [
    {
     "data": {
      "text/plain": [
       "<AxesSubplot:>"
      ]
     },
     "execution_count": 52,
     "metadata": {},
     "output_type": "execute_result"
    },
    {
     "data": {
      "image/png": "[encoded data removed]",
      "text/plain": [
       "<Figure size 432x288 with 1 Axes>"
      ]
     },
     "metadata": {
      "needs_background": "light"
     },
     "output_type": "display_data"
    }
   ],
   "source": [
    "data_periods['frac_diff_days'].replace(np.inf, 0).hist(bins=20)"
   ]
  },
  {
   "cell_type": "code",
   "execution_count": 53,
   "id": "29cfd638-4067-4ec8-8e00-ad297ef04d34",
   "metadata": {},
   "outputs": [
    {
     "data": {
      "text/plain": [
       "0.6053811659192825"
      ]
     },
     "execution_count": 53,
     "metadata": {},
     "output_type": "execute_result"
    }
   ],
   "source": [
    "# fraction of stations with at least 90% data coverage\n",
    "data_periods['frac_diff_days'].ge(0.9).mean()"
   ]
  },
  {
   "cell_type": "code",
   "execution_count": 54,
   "id": "f0ded428-b07a-45fe-b394-95c66ff21b85",
   "metadata": {},
   "outputs": [
    {
     "data": {
      "text/plain": [
       "0.7443946188340808"
      ]
     },
     "execution_count": 54,
     "metadata": {},
     "output_type": "execute_result"
    }
   ],
   "source": [
    "# fraction of stations with at least 80% data coverage\n",
    "data_periods['frac_diff_days'].ge(0.8).mean()"
   ]
  },
  {
   "cell_type": "markdown",
   "id": "fdafd0dd-e777-4cc4-9541-0bc05cfdcae7",
   "metadata": {},
   "source": [
    "### Null Values\n",
    "Two parts: one is literal nulls, the second is values based on insufficient counts. This has to be evaluated station-by-station and also over time."
   ]
  },
  {
   "cell_type": "code",
   "execution_count": 55,
   "id": "28a1da01-ac8d-45c2-a09f-9b8106e562f5",
   "metadata": {},
   "outputs": [
    {
     "data": {
      "text/html": [
       "<div>\n",
       "<style scoped>\n",
       "    .dataframe tbody tr th:only-of-type {\n",
       "        vertical-align: middle;\n",
       "    }\n",
       "\n",
       "    .dataframe tbody tr th {\n",
       "        vertical-align: top;\n",
       "    }\n",
       "\n",
       "    .dataframe thead th {\n",
       "        text-align: right;\n",
       "    }\n",
       "</style>\n",
       "<table border=\"1\" class=\"dataframe\">\n",
       "  <thead>\n",
       "    <tr style=\"text-align: right;\">\n",
       "      <th></th>\n",
       "      <th></th>\n",
       "      <th>count</th>\n",
       "      <th>mean</th>\n",
       "      <th>std</th>\n",
       "      <th>min</th>\n",
       "      <th>25%</th>\n",
       "      <th>50%</th>\n",
       "      <th>75%</th>\n",
       "      <th>max</th>\n",
       "    </tr>\n",
       "    <tr>\n",
       "      <th>usaf</th>\n",
       "      <th>wban</th>\n",
       "      <th></th>\n",
       "      <th></th>\n",
       "      <th></th>\n",
       "      <th></th>\n",
       "      <th></th>\n",
       "      <th></th>\n",
       "      <th></th>\n",
       "      <th></th>\n",
       "    </tr>\n",
       "  </thead>\n",
       "  <tbody>\n",
       "    <tr>\n",
       "      <th>691484</th>\n",
       "      <th>99999</th>\n",
       "      <td>182.0</td>\n",
       "      <td>18.659341</td>\n",
       "      <td>6.948460</td>\n",
       "      <td>4.0</td>\n",
       "      <td>12.0</td>\n",
       "      <td>23.0</td>\n",
       "      <td>24.0</td>\n",
       "      <td>24.0</td>\n",
       "    </tr>\n",
       "    <tr>\n",
       "      <th>710370</th>\n",
       "      <th>99999</th>\n",
       "      <td>6794.0</td>\n",
       "      <td>21.391080</td>\n",
       "      <td>5.801819</td>\n",
       "      <td>4.0</td>\n",
       "      <td>24.0</td>\n",
       "      <td>24.0</td>\n",
       "      <td>24.0</td>\n",
       "      <td>24.0</td>\n",
       "    </tr>\n",
       "    <tr>\n",
       "      <th>710420</th>\n",
       "      <th>99999</th>\n",
       "      <td>5001.0</td>\n",
       "      <td>15.399120</td>\n",
       "      <td>9.331145</td>\n",
       "      <td>4.0</td>\n",
       "      <td>4.0</td>\n",
       "      <td>22.0</td>\n",
       "      <td>24.0</td>\n",
       "      <td>24.0</td>\n",
       "    </tr>\n",
       "    <tr>\n",
       "      <th>710670</th>\n",
       "      <th>99999</th>\n",
       "      <td>4882.0</td>\n",
       "      <td>5.892052</td>\n",
       "      <td>1.961947</td>\n",
       "      <td>4.0</td>\n",
       "      <td>4.0</td>\n",
       "      <td>4.0</td>\n",
       "      <td>8.0</td>\n",
       "      <td>8.0</td>\n",
       "    </tr>\n",
       "    <tr>\n",
       "      <th>711120</th>\n",
       "      <th>99999</th>\n",
       "      <td>5667.0</td>\n",
       "      <td>7.189342</td>\n",
       "      <td>1.135059</td>\n",
       "      <td>4.0</td>\n",
       "      <td>7.0</td>\n",
       "      <td>8.0</td>\n",
       "      <td>8.0</td>\n",
       "      <td>9.0</td>\n",
       "    </tr>\n",
       "  </tbody>\n",
       "</table>\n",
       "</div>"
      ],
      "text/plain": [
       "               count       mean       std  min   25%   50%   75%   max\n",
       "usaf   wban                                                           \n",
       "691484 99999   182.0  18.659341  6.948460  4.0  12.0  23.0  24.0  24.0\n",
       "710370 99999  6794.0  21.391080  5.801819  4.0  24.0  24.0  24.0  24.0\n",
       "710420 99999  5001.0  15.399120  9.331145  4.0   4.0  22.0  24.0  24.0\n",
       "710670 99999  4882.0   5.892052  1.961947  4.0   4.0   4.0   8.0   8.0\n",
       "711120 99999  5667.0   7.189342  1.135059  4.0   7.0   8.0   8.0   9.0"
      ]
     },
     "execution_count": 55,
     "metadata": {},
     "output_type": "execute_result"
    }
   ],
   "source": [
    "resolution = gsod.groupby(['usaf', 'wban'])['temp_count'].describe()\n",
    "resolution.head()"
   ]
  },
  {
   "cell_type": "code",
   "execution_count": 56,
   "id": "d7ad0ebb-cc63-464a-88c4-463698ded6c8",
   "metadata": {},
   "outputs": [
    {
     "data": {
      "text/plain": [
       "24.0    192\n",
       "16.0      5\n",
       "5.0       4\n",
       "8.0       3\n",
       "21.0      3\n",
       "19.0      3\n",
       "6.0       3\n",
       "9.0       2\n",
       "14.0      2\n",
       "18.0      1\n",
       "4.0       1\n",
       "7.0       1\n",
       "15.0      1\n",
       "17.0      1\n",
       "22.0      1\n",
       "Name: max, dtype: int64"
      ]
     },
     "execution_count": 56,
     "metadata": {},
     "output_type": "execute_result"
    }
   ],
   "source": [
    "# almost all hourly\n",
    "resolution['max'].value_counts()"
   ]
  },
  {
   "cell_type": "code",
   "execution_count": 57,
   "id": "febad072-13e2-4355-91fe-f324f5b4d6ef",
   "metadata": {},
   "outputs": [
    {
     "data": {
      "text/plain": [
       "24.0    176\n",
       "15.0     11\n",
       "8.0       7\n",
       "16.0      7\n",
       "4.0       7\n",
       "14.0      3\n",
       "7.0       2\n",
       "5.0       2\n",
       "23.0      2\n",
       "17.0      1\n",
       "21.0      1\n",
       "12.0      1\n",
       "6.0       1\n",
       "13.0      1\n",
       "18.0      1\n",
       "Name: 75%, dtype: int64"
      ]
     },
     "execution_count": 57,
     "metadata": {},
     "output_type": "execute_result"
    }
   ],
   "source": [
    "# almost all hourly\n",
    "resolution['75%'].value_counts()"
   ]
  },
  {
   "cell_type": "code",
   "execution_count": 58,
   "id": "5f4b7a0f-b9dd-4237-89ec-1914a0685cf4",
   "metadata": {},
   "outputs": [
    {
     "data": {
      "text/plain": [
       "4.0     157\n",
       "6.0      25\n",
       "5.0      18\n",
       "7.0      12\n",
       "8.0       9\n",
       "12.0      1\n",
       "10.0      1\n",
       "Name: min, dtype: int64"
      ]
     },
     "execution_count": 58,
     "metadata": {},
     "output_type": "execute_result"
    }
   ],
   "source": [
    "# looks like there is a lower bound at 4\n",
    "resolution['min'].value_counts()"
   ]
  },
  {
   "cell_type": "code",
   "execution_count": 59,
   "id": "d78ed576-1e15-4a04-b1be-2ae6ba55849d",
   "metadata": {},
   "outputs": [],
   "source": [
    "gsod['filtered_temp'] = gsod['temp_f_mean'].where(gsod['temp_count'] >= 20, np.nan)"
   ]
  },
  {
   "cell_type": "code",
   "execution_count": 60,
   "id": "30944e58-91ab-47a1-87ba-e48e80ef9371",
   "metadata": {},
   "outputs": [
    {
     "data": {
      "text/plain": [
       "usaf    wban \n",
       "691484  99999     114\n",
       "710370  99999    5687\n",
       "710420  99999    2631\n",
       "710670  99999       0\n",
       "711120  99999       0\n",
       "Name: filtered_temp, dtype: int64"
      ]
     },
     "execution_count": 60,
     "metadata": {},
     "output_type": "execute_result"
    }
   ],
   "source": [
    "coverage = gsod.groupby(['usaf', 'wban'])['filtered_temp'].count()\n",
    "coverage.head()"
   ]
  },
  {
   "cell_type": "code",
   "execution_count": 61,
   "id": "cd797df8-a7bf-4cc0-8fe8-b10f3c714563",
   "metadata": {},
   "outputs": [],
   "source": [
    "data_periods = pd.concat([data_periods, coverage], axis=1, copy=False)"
   ]
  },
  {
   "cell_type": "code",
   "execution_count": 62,
   "id": "4f458e55-ce65-4af8-a6a0-1fd1b9f20255",
   "metadata": {},
   "outputs": [],
   "source": [
    "data_periods['frac_filtered_count'] = data_periods['filtered_temp'].div(data_periods['expected_days'])"
   ]
  },
  {
   "cell_type": "code",
   "execution_count": 63,
   "id": "f6305ef2-ec63-4250-8cf8-2bdd8d4ae6d4",
   "metadata": {},
   "outputs": [
    {
     "data": {
      "text/plain": [
       "<AxesSubplot:>"
      ]
     },
     "execution_count": 63,
     "metadata": {},
     "output_type": "execute_result"
    },
    {
     "data": {
      "image/png": "[encoded data removed]",
      "text/plain": [
       "<Figure size 432x288 with 1 Axes>"
      ]
     },
     "metadata": {
      "needs_background": "light"
     },
     "output_type": "display_data"
    }
   ],
   "source": [
    "data_periods['frac_filtered_count'].replace(np.inf, 0).hist(bins=20)"
   ]
  },
  {
   "cell_type": "code",
   "execution_count": 64,
   "id": "0f3678fb-d3ba-4dd9-b9d0-557b33b9dda6",
   "metadata": {},
   "outputs": [
    {
     "data": {
      "text/plain": [
       "0.32286995515695066"
      ]
     },
     "execution_count": 64,
     "metadata": {},
     "output_type": "execute_result"
    }
   ],
   "source": [
    "# fraction of stations with at least 90% data coverage\n",
    "data_periods['frac_filtered_count'].ge(0.9).mean()"
   ]
  },
  {
   "cell_type": "code",
   "execution_count": 65,
   "id": "c24907b3-f419-403f-a58f-9e3c68b44a29",
   "metadata": {},
   "outputs": [
    {
     "data": {
      "text/plain": [
       "0.452914798206278"
      ]
     },
     "execution_count": 65,
     "metadata": {},
     "output_type": "execute_result"
    }
   ],
   "source": [
    "# fraction of stations with at least 80% data coverage\n",
    "data_periods['frac_filtered_count'].ge(0.8).mean()"
   ]
  },
  {
   "cell_type": "code",
   "execution_count": 66,
   "id": "8804541a-ec0c-43bf-8a03-3c8cb376e608",
   "metadata": {},
   "outputs": [
    {
     "data": {
      "text/plain": [
       "(223, 19)"
      ]
     },
     "execution_count": 66,
     "metadata": {},
     "output_type": "execute_result"
    }
   ],
   "source": [
    "data_periods.shape"
   ]
  },
  {
   "cell_type": "markdown",
   "id": "9c590b36-3a52-49d8-a130-f77fba6cc634",
   "metadata": {},
   "source": [
    "## Validity\n",
    "### Range\n",
    "- [x] temperatures\n",
    "- [x] precipitation\n",
    "- [x] counts"
   ]
  },
  {
   "cell_type": "code",
   "execution_count": 67,
   "id": "82698cc2-cb01-44a5-b807-999a8fe7c6f3",
   "metadata": {},
   "outputs": [
    {
     "data": {
      "text/plain": [
       "array([[<AxesSubplot:title={'center':'temp_f_mean'}>,\n",
       "        <AxesSubplot:title={'center':'temp_f_min'}>],\n",
       "       [<AxesSubplot:title={'center':'temp_f_max'}>, <AxesSubplot:>]],\n",
       "      dtype=object)"
      ]
     },
     "execution_count": 67,
     "metadata": {},
     "output_type": "execute_result"
    },
    {
     "data": {
      "image/png": "[encoded data removed]",
      "text/plain": [
       "<Figure size 432x288 with 4 Axes>"
      ]
     },
     "metadata": {
      "needs_background": "light"
     },
     "output_type": "display_data"
    }
   ],
   "source": [
    "# no outliers, all plausible\n",
    "gsod[['temp_f_mean', 'temp_f_min', 'temp_f_max']].hist(bins=100)"
   ]
  },
  {
   "cell_type": "code",
   "execution_count": 68,
   "id": "22d55d9d-6e55-4c0c-b777-ccc45ff7221d",
   "metadata": {},
   "outputs": [
    {
     "data": {
      "text/plain": [
       "<AxesSubplot:>"
      ]
     },
     "execution_count": 68,
     "metadata": {},
     "output_type": "execute_result"
    },
    {
     "data": {
      "image/png": "[encoded data removed]",
      "text/plain": [
       "<Figure size 432x288 with 1 Axes>"
      ]
     },
     "metadata": {
      "needs_background": "light"
     },
     "output_type": "display_data"
    }
   ],
   "source": [
    "# no outliers, all plausible\n",
    "gsod['precipitation_total_inches'].replace(0, np.nan).transform(np.log10).hist(bins=50)"
   ]
  },
  {
   "cell_type": "code",
   "execution_count": 69,
   "id": "29bf3a7e-d1da-4c7e-a124-c530293aee87",
   "metadata": {},
   "outputs": [
    {
     "data": {
      "text/plain": [
       "['temp_count',\n",
       " 'dew_point_count',\n",
       " 'sea_level_pressure_count',\n",
       " 'pressure_count',\n",
       " 'visbility_count',\n",
       " 'wind_speed_count']"
      ]
     },
     "execution_count": 69,
     "metadata": {},
     "output_type": "execute_result"
    }
   ],
   "source": [
    "count_cols = [col for col in gsod.columns if col.endswith('_count')]\n",
    "count_cols"
   ]
  },
  {
   "cell_type": "code",
   "execution_count": 70,
   "id": "4e0392bc-4453-4a08-8039-6b18ee488d57",
   "metadata": {},
   "outputs": [
    {
     "data": {
      "text/plain": [
       "array([[<AxesSubplot:title={'center':'temp_count'}>,\n",
       "        <AxesSubplot:title={'center':'dew_point_count'}>],\n",
       "       [<AxesSubplot:title={'center':'sea_level_pressure_count'}>,\n",
       "        <AxesSubplot:title={'center':'pressure_count'}>],\n",
       "       [<AxesSubplot:title={'center':'visbility_count'}>,\n",
       "        <AxesSubplot:title={'center':'wind_speed_count'}>]], dtype=object)"
      ]
     },
     "execution_count": 70,
     "metadata": {},
     "output_type": "execute_result"
    },
    {
     "data": {
      "image/png": "[encoded data removed]",
      "text/plain": [
       "<Figure size 576x576 with 6 Axes>"
      ]
     },
     "metadata": {
      "needs_background": "light"
     },
     "output_type": "display_data"
    }
   ],
   "source": [
    "# no outliers, all plausible\n",
    "# note presence of secondary peaks at 4 and 8 counts (6 hr and 3 hr measurement periods)\n",
    "gsod[count_cols].hist(bins=50, figsize=(8,8))"
   ]
  },
  {
   "cell_type": "markdown",
   "id": "cac7101d-6868-4976-972e-a6d6d66b17c6",
   "metadata": {},
   "source": [
    "### Uniqueness\n",
    "- [x] check primary key\n",
    "- [x] do I want a surrogate station id? \\[no, I won't bother. It only saves one net column\\]"
   ]
  },
  {
   "cell_type": "code",
   "execution_count": 71,
   "id": "31b7aadf-c3c3-459e-83ad-1f39ecc121af",
   "metadata": {},
   "outputs": [
    {
     "data": {
      "text/plain": [
       "0"
      ]
     },
     "execution_count": 71,
     "metadata": {},
     "output_type": "execute_result"
    }
   ],
   "source": [
    "# no duplicates!\n",
    "key = ['usaf', 'wban', 'timestamp']\n",
    "gsod.duplicated(subset=key).sum()"
   ]
  },
  {
   "cell_type": "markdown",
   "id": "0050b1ac-abe7-411b-8c12-ba93f47fcc66",
   "metadata": {},
   "source": [
    "### Set Membership\n",
    "- [x] measurement types\n",
    "\n",
    "Binary indicators for snow and hail have parsing errors in a few values. Will set those to null."
   ]
  },
  {
   "cell_type": "code",
   "execution_count": 72,
   "id": "725cf2b9-5b7e-46ae-add0-090a8f689ec9",
   "metadata": {},
   "outputs": [
    {
     "data": {
      "text/plain": [
       "*      1134726\n",
       "NaN     717620\n",
       "Name: temp_max_measurement_type, dtype: int64"
      ]
     },
     "execution_count": 72,
     "metadata": {},
     "output_type": "execute_result"
    }
   ],
   "source": [
    "# looks good\n",
    "gsod['temp_max_measurement_type'].value_counts(dropna=False)"
   ]
  },
  {
   "cell_type": "code",
   "execution_count": 73,
   "id": "ae2dd505-4030-4f70-b51e-277e7dd652ee",
   "metadata": {},
   "outputs": [
    {
     "data": {
      "text/plain": [
       "*      1059188\n",
       "NaN     793158\n",
       "Name: temp_min_measurement_type, dtype: int64"
      ]
     },
     "execution_count": 73,
     "metadata": {},
     "output_type": "execute_result"
    }
   ],
   "source": [
    "# looks good\n",
    "gsod['temp_min_measurement_type'].value_counts(dropna=False)"
   ]
  },
  {
   "cell_type": "code",
   "execution_count": 74,
   "id": "f07aca45-4042-4c6e-a24e-4bb7c8521fd1",
   "metadata": {},
   "outputs": [
    {
     "data": {
      "text/plain": [
       "I      709877\n",
       "G      707796\n",
       "NaN    148243\n",
       "D      136023\n",
       "B       50026\n",
       "H       35297\n",
       "C       33166\n",
       "A       31917\n",
       "E           1\n",
       "Name: precipitation_measurement_type, dtype: int64"
      ]
     },
     "execution_count": 74,
     "metadata": {},
     "output_type": "execute_result"
    }
   ],
   "source": [
    "# looks good\n",
    "gsod['precipitation_measurement_type'].value_counts(dropna=False)"
   ]
  },
  {
   "cell_type": "code",
   "execution_count": 75,
   "id": "5c1fd93e-5d79-4a43-8995-248f8817a04e",
   "metadata": {},
   "outputs": [
    {
     "data": {
      "text/plain": [
       "0     1847944\n",
       "1        4366\n",
       "10         36\n",
       "Name: had_hail, dtype: int64"
      ]
     },
     "execution_count": 75,
     "metadata": {},
     "output_type": "execute_result"
    }
   ],
   "source": [
    "# \"10\" is a parsing error.\n",
    "# The original data is encoded as a 5 character string \"01234\"\n",
    "# with each position corresponding to a particular weather category ('rain', 'fog', etc)\n",
    "# Don't know what \"10\" is - it could be an off-by-one error. I'll set them to Null.\n",
    "gsod['had_hail'].value_counts(dropna=False)"
   ]
  },
  {
   "cell_type": "code",
   "execution_count": 76,
   "id": "a902188a-9565-400b-a165-4d1ae06f4875",
   "metadata": {},
   "outputs": [
    {
     "data": {
      "text/plain": [
       "0    1495813\n",
       "1     356533\n",
       "Name: had_rain, dtype: int64"
      ]
     },
     "execution_count": 76,
     "metadata": {},
     "output_type": "execute_result"
    }
   ],
   "source": [
    "gsod['had_rain'].value_counts(dropna=False)"
   ]
  },
  {
   "cell_type": "code",
   "execution_count": 77,
   "id": "86cb9ca3-4807-4ea5-bc3f-e0006ca164db",
   "metadata": {},
   "outputs": [
    {
     "data": {
      "text/plain": [
       "0     1764593\n",
       "1       87717\n",
       "10         36\n",
       "Name: had_snow_ice, dtype: int64"
      ]
     },
     "execution_count": 77,
     "metadata": {},
     "output_type": "execute_result"
    }
   ],
   "source": [
    "# parsing error\n",
    "gsod['had_snow_ice'].value_counts(dropna=False)"
   ]
  },
  {
   "cell_type": "markdown",
   "id": "1e74dcbb-b2db-4cea-a3ef-21396ad645f8",
   "metadata": {},
   "source": [
    "### Type\n",
    "- [x] last 3 columns should be booleans. Why aren't they?\n",
    "\n",
    "Because of the parsing errors above."
   ]
  },
  {
   "cell_type": "markdown",
   "id": "9a23172c-885b-473a-a9a2-afe4b56ca3fd",
   "metadata": {},
   "source": [
    "### Cross-Field\n",
    "- [x] min < mean < max\n",
    "- [x] dew point < temp\n",
    "- [x] precip >=0 when rain | snow/ice indicators and vice versa\n",
    "- [x] sea level pressure > station pressure\n",
    "\n",
    "Temperatures and dew points look good here.\n",
    "\n",
    "Precipitation measurements don't match indicators very well. First, when indicators show precipitation, measured precip is NaN 35% of the time (vs only 0.17% NaN when indicators are `False`). Second, 8% of `False` indicator values have measureable precip, and 26% of not-null `True` indicators show 0 measured precip.\n",
    "\n",
    "Pressures also have some inconsistencies. Some are outright erroneous (bad values or maybe different units). Some stations have a tight relationshp between SLP and station Pressure while others are fuzzy. There are many rows where SLP < station pressure, which shouldn't be the case unless the station is below sea level (none are). Because pressure isn't one of the main variables we will be working with, I'll ignore this for now.\n",
    "\n",
    "#### Min/Mean/Max Temperature order"
   ]
  },
  {
   "cell_type": "code",
   "execution_count": 78,
   "id": "9bb0aba0-ec65-42bc-a838-38502b48514c",
   "metadata": {},
   "outputs": [
    {
     "data": {
      "text/plain": [
       "False"
      ]
     },
     "execution_count": 78,
     "metadata": {},
     "output_type": "execute_result"
    }
   ],
   "source": [
    "# should be false\n",
    "min_gt_mean = gsod['temp_f_min'].gt(gsod['temp_f_mean'])\n",
    "min_gt_mean.any()"
   ]
  },
  {
   "cell_type": "code",
   "execution_count": 79,
   "id": "e05f2fc9-fa12-4503-975e-4c3ab62a1001",
   "metadata": {},
   "outputs": [
    {
     "data": {
      "text/plain": [
       "False"
      ]
     },
     "execution_count": 79,
     "metadata": {},
     "output_type": "execute_result"
    }
   ],
   "source": [
    "# should be false\n",
    "mean_gt_max = gsod['temp_f_mean'].gt(gsod['temp_f_max'])\n",
    "mean_gt_max.any()"
   ]
  },
  {
   "cell_type": "markdown",
   "id": "ed2774e6-a142-4e69-a624-f95f8948677d",
   "metadata": {},
   "source": [
    "#### Dew Point vs Mean Temp"
   ]
  },
  {
   "cell_type": "code",
   "execution_count": 80,
   "id": "3e310a37-d889-4df6-b0bf-436c41b08a2c",
   "metadata": {},
   "outputs": [
    {
     "data": {
      "text/plain": [
       "False"
      ]
     },
     "execution_count": 80,
     "metadata": {},
     "output_type": "execute_result"
    }
   ],
   "source": [
    "# should be false\n",
    "gsod['temp_f_mean'].lt(gsod['dew_point_f_mean']).any()"
   ]
  },
  {
   "cell_type": "markdown",
   "id": "15e0fb8f-765c-4729-9735-9476a171d5b3",
   "metadata": {},
   "source": [
    "#### Precipitation Indicators vs Measurements"
   ]
  },
  {
   "cell_type": "code",
   "execution_count": 81,
   "id": "61515077-267d-42aa-b0a3-6bf86c47d2b4",
   "metadata": {},
   "outputs": [],
   "source": [
    "had_precip = gsod[['had_snow_ice', 'had_rain', 'had_hail']].any(axis=1).rename('had_precip')"
   ]
  },
  {
   "cell_type": "code",
   "execution_count": 82,
   "id": "cd68679a-6241-4101-aed5-c51282194ed4",
   "metadata": {},
   "outputs": [
    {
     "data": {
      "text/html": [
       "<div>\n",
       "<style scoped>\n",
       "    .dataframe tbody tr th:only-of-type {\n",
       "        vertical-align: middle;\n",
       "    }\n",
       "\n",
       "    .dataframe tbody tr th {\n",
       "        vertical-align: top;\n",
       "    }\n",
       "\n",
       "    .dataframe thead th {\n",
       "        text-align: right;\n",
       "    }\n",
       "</style>\n",
       "<table border=\"1\" class=\"dataframe\">\n",
       "  <thead>\n",
       "    <tr style=\"text-align: right;\">\n",
       "      <th></th>\n",
       "      <th>count</th>\n",
       "      <th>mean</th>\n",
       "      <th>std</th>\n",
       "      <th>min</th>\n",
       "      <th>25%</th>\n",
       "      <th>50%</th>\n",
       "      <th>75%</th>\n",
       "      <th>max</th>\n",
       "    </tr>\n",
       "    <tr>\n",
       "      <th>had_precip</th>\n",
       "      <th></th>\n",
       "      <th></th>\n",
       "      <th></th>\n",
       "      <th></th>\n",
       "      <th></th>\n",
       "      <th></th>\n",
       "      <th></th>\n",
       "      <th></th>\n",
       "    </tr>\n",
       "  </thead>\n",
       "  <tbody>\n",
       "    <tr>\n",
       "      <th>False</th>\n",
       "      <td>1433553.0</td>\n",
       "      <td>0.015958</td>\n",
       "      <td>0.123999</td>\n",
       "      <td>0.0</td>\n",
       "      <td>0.0</td>\n",
       "      <td>0.00</td>\n",
       "      <td>0.00</td>\n",
       "      <td>7.87</td>\n",
       "    </tr>\n",
       "    <tr>\n",
       "      <th>True</th>\n",
       "      <td>270550.0</td>\n",
       "      <td>0.139564</td>\n",
       "      <td>0.298785</td>\n",
       "      <td>0.0</td>\n",
       "      <td>0.0</td>\n",
       "      <td>0.02</td>\n",
       "      <td>0.16</td>\n",
       "      <td>12.13</td>\n",
       "    </tr>\n",
       "  </tbody>\n",
       "</table>\n",
       "</div>"
      ],
      "text/plain": [
       "                count      mean       std  min  25%   50%   75%    max\n",
       "had_precip                                                            \n",
       "False       1433553.0  0.015958  0.123999  0.0  0.0  0.00  0.00   7.87\n",
       "True         270550.0  0.139564  0.298785  0.0  0.0  0.02  0.16  12.13"
      ]
     },
     "execution_count": 82,
     "metadata": {},
     "output_type": "execute_result"
    }
   ],
   "source": [
    "gsod.groupby(had_precip)['precipitation_total_inches'].describe()"
   ]
  },
  {
   "cell_type": "code",
   "execution_count": 83,
   "id": "f1034f90-ec9f-4abb-972f-cb3aa4f34ff9",
   "metadata": {},
   "outputs": [
    {
     "data": {
      "text/plain": [
       "had_precip\n",
       "False    AxesSubplot(0.125,0.125;0.775x0.755)\n",
       "True     AxesSubplot(0.125,0.125;0.775x0.755)\n",
       "Name: precipitation_total_inches, dtype: object"
      ]
     },
     "execution_count": 83,
     "metadata": {},
     "output_type": "execute_result"
    },
    {
     "data": {
      "image/png": "[encoded data removed]",
      "text/plain": [
       "<Figure size 432x288 with 1 Axes>"
      ]
     },
     "metadata": {
      "needs_background": "light"
     },
     "output_type": "display_data"
    }
   ],
   "source": [
    "# eCDFs of measured precipitation grouped by presence of precipitation indicator\n",
    "gsod['precipitation_total_inches'].groupby(had_precip).hist(bins=100, density=True, cumulative=True, histtype='step',)"
   ]
  },
  {
   "cell_type": "code",
   "execution_count": 84,
   "id": "f29e116e-7735-4067-a7da-fa3a63f37dd1",
   "metadata": {},
   "outputs": [
    {
     "data": {
      "text/plain": [
       "had_precip\n",
       "False    AxesSubplot(0.125,0.125;0.775x0.755)\n",
       "True     AxesSubplot(0.125,0.125;0.775x0.755)\n",
       "Name: precipitation_total_inches, dtype: object"
      ]
     },
     "execution_count": 84,
     "metadata": {},
     "output_type": "execute_result"
    },
    {
     "data": {
      "image/png": "[encoded data removed]",
      "text/plain": [
       "<Figure size 432x288 with 1 Axes>"
      ]
     },
     "metadata": {
      "needs_background": "light"
     },
     "output_type": "display_data"
    }
   ],
   "source": [
    "gsod['precipitation_total_inches'].replace(0, 1e-3).transform(np.log10).groupby(had_precip).hist(bins=100, density=True, cumulative=True, histtype='step',)"
   ]
  },
  {
   "cell_type": "code",
   "execution_count": 85,
   "id": "2d91159d-f7b1-4647-bc2a-a95cbf67d599",
   "metadata": {},
   "outputs": [
    {
     "data": {
      "text/plain": [
       "had_precip\n",
       "False    0.918602\n",
       "True     0.260799\n",
       "Name: precipitation_total_inches, dtype: float64"
      ]
     },
     "execution_count": 85,
     "metadata": {},
     "output_type": "execute_result"
    }
   ],
   "source": [
    "gsod['precipitation_total_inches'].eq(0).groupby(had_precip).mean()"
   ]
  },
  {
   "cell_type": "code",
   "execution_count": 86,
   "id": "bbc7896c-c6e3-4b30-bee7-773f3a9a4ddc",
   "metadata": {},
   "outputs": [
    {
     "data": {
      "text/plain": [
       "had_precip  precipitation_total_inches\n",
       "False       True                          1319188\n",
       "            False                          116895\n",
       "True        False                          307702\n",
       "            True                           108561\n",
       "Name: precipitation_total_inches, dtype: int64"
      ]
     },
     "execution_count": 86,
     "metadata": {},
     "output_type": "execute_result"
    }
   ],
   "source": [
    "gsod['precipitation_total_inches'].eq(0).groupby(had_precip).value_counts(dropna=False)"
   ]
  },
  {
   "cell_type": "code",
   "execution_count": 87,
   "id": "a729d548-ca16-4b70-876b-172bed2b2e3b",
   "metadata": {},
   "outputs": [
    {
     "data": {
      "text/plain": [
       "had_precip\n",
       "False    0.001762\n",
       "True     0.350050\n",
       "Name: precipitation_total_inches, dtype: float64"
      ]
     },
     "execution_count": 87,
     "metadata": {},
     "output_type": "execute_result"
    }
   ],
   "source": [
    "gsod['precipitation_total_inches'].isna().groupby(had_precip).mean()"
   ]
  },
  {
   "cell_type": "markdown",
   "id": "2b7e2ab7-05f2-438b-a35f-3ee133badf2a",
   "metadata": {},
   "source": [
    "#### Sea Level vs Station Pressures"
   ]
  },
  {
   "cell_type": "code",
   "execution_count": 88,
   "id": "d7027408-4a53-4ebc-bbc8-ed9922a56cd9",
   "metadata": {},
   "outputs": [
    {
     "data": {
      "text/plain": [
       "True"
      ]
     },
     "execution_count": 88,
     "metadata": {},
     "output_type": "execute_result"
    }
   ],
   "source": [
    "# should be False\n",
    "gsod['sea_level_pressure_mbar_mean'].lt(gsod['pressure_mbar_mean']).any()"
   ]
  },
  {
   "cell_type": "code",
   "execution_count": 89,
   "id": "a3533c69-124f-49dd-9ac7-1a7d9bb3ec46",
   "metadata": {},
   "outputs": [
    {
     "data": {
      "text/plain": [
       "<AxesSubplot:xlabel='pressure_mbar_mean', ylabel='sea_level_pressure_mbar_mean'>"
      ]
     },
     "execution_count": 89,
     "metadata": {},
     "output_type": "execute_result"
    },
    {
     "data": {
      "image/png": "[encoded data removed]",
      "text/plain": [
       "<Figure size 864x864 with 1 Axes>"
      ]
     },
     "metadata": {
      "needs_background": "light"
     },
     "output_type": "display_data"
    }
   ],
   "source": [
    "# clearly erroneous pressures near 0 break the above test\n",
    "gsod.plot.scatter(x='pressure_mbar_mean', y='sea_level_pressure_mbar_mean', s=1, alpha=0.1, figsize=(12,12))"
   ]
  },
  {
   "cell_type": "code",
   "execution_count": 90,
   "id": "c73940cc-440c-4568-8df2-7e2c98f0a3f8",
   "metadata": {},
   "outputs": [],
   "source": [
    "pressure_is_weird = gsod['pressure_mbar_mean'].lt(200).rename('weird_pressure')"
   ]
  },
  {
   "cell_type": "code",
   "execution_count": 91,
   "id": "48d0811d-4e0e-451d-acd2-cdbab60dfa5a",
   "metadata": {},
   "outputs": [
    {
     "data": {
      "text/plain": [
       "True"
      ]
     },
     "execution_count": 91,
     "metadata": {},
     "output_type": "execute_result"
    }
   ],
   "source": [
    "# should be False\n",
    "gsod.loc[~pressure_is_weird, 'sea_level_pressure_mbar_mean'].lt(gsod.loc[~pressure_is_weird, 'pressure_mbar_mean']).any()"
   ]
  },
  {
   "cell_type": "code",
   "execution_count": 92,
   "id": "baeb1fbe-55c7-4a31-8f52-3b498cd4723d",
   "metadata": {},
   "outputs": [
    {
     "data": {
      "text/plain": [
       "weird_pressure       \n",
       "False           False    1801169\n",
       "                True        1685\n",
       "True            False      49492\n",
       "dtype: int64"
      ]
     },
     "execution_count": 92,
     "metadata": {},
     "output_type": "execute_result"
    }
   ],
   "source": [
    "# should be False\n",
    "gsod['sea_level_pressure_mbar_mean'].lt(gsod['pressure_mbar_mean']).groupby(pressure_is_weird).value_counts(dropna=False)"
   ]
  },
  {
   "cell_type": "code",
   "execution_count": 93,
   "id": "644159d5-d4d4-4a53-b427-7adf40835e82",
   "metadata": {},
   "outputs": [
    {
     "data": {
      "text/plain": [
       "<AxesSubplot:xlabel='pressure_mbar_mean', ylabel='sea_level_pressure_mbar_mean'>"
      ]
     },
     "execution_count": 93,
     "metadata": {},
     "output_type": "execute_result"
    },
    {
     "data": {
      "image/png": "[encoded data removed]",
      "text/plain": [
       "<Figure size 864x864 with 1 Axes>"
      ]
     },
     "metadata": {
      "needs_background": "light"
     },
     "output_type": "display_data"
    }
   ],
   "source": [
    "# clearly erroneous pressures at one station: constant 1000 mbar\n",
    "# Also, some stations have very tight distribution while others are very broad. Don't know what that means.\n",
    "gsod.loc[~pressure_is_weird,:].plot.scatter(x='pressure_mbar_mean', y='sea_level_pressure_mbar_mean', s=1, alpha=0.1, figsize=(12,12))"
   ]
  },
  {
   "cell_type": "code",
   "execution_count": null,
   "id": "ed2dacac-e5a5-45e3-ae0b-ab759ffdf865",
   "metadata": {},
   "outputs": [],
   "source": []
  }
 ],
 "metadata": {
  "kernelspec": {
   "display_name": "Python 3 (ipykernel)",
   "language": "python",
   "name": "python3"
  },
  "language_info": {
   "codemirror_mode": {
    "name": "ipython",
    "version": 3
   },
   "file_extension": ".py",
   "mimetype": "text/x-python",
   "name": "python",
   "nbconvert_exporter": "python",
   "pygments_lexer": "ipython3",
   "version": "3.9.12"
  }
 },
 "nbformat": 4,
 "nbformat_minor": 5
}
